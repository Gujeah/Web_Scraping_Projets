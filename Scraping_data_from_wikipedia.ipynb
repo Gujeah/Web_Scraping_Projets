{
  "nbformat": 4,
  "nbformat_minor": 0,
  "metadata": {
    "colab": {
      "provenance": [],
      "authorship_tag": "ABX9TyNlM46EutRjaZYAc6mKkf7h",
      "include_colab_link": true
    },
    "kernelspec": {
      "name": "python3",
      "display_name": "Python 3"
    },
    "language_info": {
      "name": "python"
    }
  },
  "cells": [
    {
      "cell_type": "markdown",
      "metadata": {
        "id": "view-in-github",
        "colab_type": "text"
      },
      "source": [
        "<a href=\"https://colab.research.google.com/github/Gujeah/Web_Scraping_Projets/blob/main/Scraping_data_from_wikipedia.ipynb\" target=\"_parent\"><img src=\"https://colab.research.google.com/assets/colab-badge.svg\" alt=\"Open In Colab\"/></a>"
      ]
    },
    {
      "cell_type": "code",
      "execution_count": 59,
      "metadata": {
        "id": "tuS_F-l4A87r"
      },
      "outputs": [],
      "source": [
        "import requests, openpyxl\n",
        "from bs4 import BeautifulSoup as bs\n",
        "import pandas as pd\n",
        "import numpy as np\n",
        "import re"
      ]
    },
    {
      "cell_type": "code",
      "source": [
        "url=\"https://en.wikipedia.org/wiki/List_of_largest_companies_in_the_United_States_by_revenue\""
      ],
      "metadata": {
        "id": "yxA1RHYMBBA2"
      },
      "execution_count": 60,
      "outputs": []
    },
    {
      "cell_type": "code",
      "source": [
        "HEADERS=({'User-Agent':'Mozilla/5.0 (Windows NT 10.0; Win64; x64) AppleWebKit/537.36 (KHTML, like Gecko) Chrome/131.0.0.0 Safari/537.36',\n",
        "         'Accept-Language':'en-US en;q=0.5'\n",
        "\n",
        "\n",
        "\n",
        "         })"
      ],
      "metadata": {
        "id": "oNkko9KuBBDS"
      },
      "execution_count": 61,
      "outputs": []
    },
    {
      "cell_type": "markdown",
      "source": [
        "Defining the excel workbook"
      ],
      "metadata": {
        "id": "7m0uGp7O2scI"
      }
    },
    {
      "cell_type": "code",
      "source": [
        "excel=openpyxl.Workbook()\n",
        "sheet=excel.active\n",
        "sheet.title=\"List of largest companies in the United States by revenue\"\n",
        "sheet.append(['Rank', 'Name', 'Industy', 'Revenue (USD Million)', 'Revenue Growth','Employees', 'Heaquarters'])"
      ],
      "metadata": {
        "colab": {
          "base_uri": "https://localhost:8080/"
        },
        "id": "aaEx5-D92qra",
        "outputId": "1c592d60-5c18-4f97-c767-304fdea4ad81"
      },
      "execution_count": 62,
      "outputs": [
        {
          "output_type": "stream",
          "name": "stderr",
          "text": [
            "/usr/local/lib/python3.11/dist-packages/openpyxl/workbook/child.py:99: UserWarning: Title is more than 31 characters. Some applications may not be able to read the file\n",
            "  warnings.warn(\"Title is more than 31 characters. Some applications may not be able to read the file\")\n"
          ]
        }
      ]
    },
    {
      "cell_type": "code",
      "source": [
        "try:\n",
        "  wiki=requests.get(url, headers=HEADERS)\n",
        "  wiki.raise_for_status()\n",
        "  soup=bs(wiki.content, 'html.parser')\n",
        "  revenues=soup.find(\"tbody\").find_all(\"tr\")\n",
        "  for revenue in revenues:\n",
        "    if revenue.find(\"th\"):\n",
        "      continue\n",
        "    tds=revenue.find_all(\"td\")\n",
        "    rank=tds[0].text\n",
        "    name=tds[1].text\n",
        "    industry=tds[2].text\n",
        "    revenue=tds[3].text\n",
        "    revenue_growth=tds[4].text\n",
        "    employees=tds[5].text\n",
        "    headquaters=tds[6].text\n",
        "    sheet.append([rank, name, industry, revenue, revenue_growth, employees, headquaters])\n",
        "\n",
        "\n",
        "\n",
        "except Exception as e:\n",
        "  print(e)\n",
        "excel.save(\"top companies in US.xlsx\")"
      ],
      "metadata": {
        "id": "xaGcFqNGBBFt"
      },
      "execution_count": 63,
      "outputs": []
    },
    {
      "cell_type": "code",
      "source": [],
      "metadata": {
        "id": "AU4HGenHBBcj"
      },
      "execution_count": 63,
      "outputs": []
    }
  ]
}