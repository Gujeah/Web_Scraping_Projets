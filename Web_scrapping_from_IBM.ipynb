{
  "nbformat": 4,
  "nbformat_minor": 0,
  "metadata": {
    "colab": {
      "provenance": [],
      "authorship_tag": "ABX9TyNIBFKyDSEqJoiSwBUUuA99",
      "include_colab_link": true
    },
    "kernelspec": {
      "name": "python3",
      "display_name": "Python 3"
    },
    "language_info": {
      "name": "python"
    }
  },
  "cells": [
    {
      "cell_type": "markdown",
      "metadata": {
        "id": "view-in-github",
        "colab_type": "text"
      },
      "source": [
        "<a href=\"https://colab.research.google.com/github/Gujeah/Web_Scraping_Projets/blob/main/Web_scrapping_from_IBM.ipynb\" target=\"_parent\"><img src=\"https://colab.research.google.com/assets/colab-badge.svg\" alt=\"Open In Colab\"/></a>"
      ]
    },
    {
      "cell_type": "code",
      "execution_count": 32,
      "metadata": {
        "id": "hjwAbxtsDLwk"
      },
      "outputs": [],
      "source": [
        "from bs4 import BeautifulSoup as bs\n",
        "import requests,openpyxl\n",
        "import pandas as pd\n",
        "import numpy as np\n",
        "import re"
      ]
    },
    {
      "cell_type": "code",
      "source": [
        "url=\"https://www.imdb.com/chart/top/\""
      ],
      "metadata": {
        "id": "KZ1NPs2UDWaD"
      },
      "execution_count": 2,
      "outputs": []
    },
    {
      "cell_type": "code",
      "source": [
        "HEADERS=({'User-Agent':'Mozilla/5.0 (Windows NT 10.0; Win64; x64) AppleWebKit/537.36 (KHTML, like Gecko) Chrome/131.0.0.0 Safari/537.36',\n",
        "         'Accept-Language':'en-US en;q=0.5'\n",
        "\n",
        "\n",
        "\n",
        "         })"
      ],
      "metadata": {
        "id": "v8ykyvVqFS28"
      },
      "execution_count": 3,
      "outputs": []
    },
    {
      "cell_type": "code",
      "source": [
        "excel=openpyxl.Workbook()\n",
        "sheet=excel.active\n",
        "sheet.title='top rated movies'\n",
        "sheet.append(['movie_ranks', 'movie_name', 'year_of_release', 'IMDB_rating'])"
      ],
      "metadata": {
        "id": "OvUeSRvf3LUo"
      },
      "execution_count": 35,
      "outputs": []
    },
    {
      "cell_type": "code",
      "source": [
        "try:\n",
        "  webpage=requests.get(url, headers=HEADERS)\n",
        "  webpage.raise_for_status()\n",
        "\n",
        "  soup=bs(webpage.content, 'html.parser')\n",
        "  # movie=soup.select(\"ul.ipc-metadata-list ipc-metadata-list--dividers-between sc-a1e81754-0 iyTDQy compact-list-view ipc-metadata-list--base\")\n",
        "  movies= soup.find(\"ul\", attrs={\"class\":\"ipc-metadata-list ipc-metadata-list--dividers-between sc-a1e81754-0 iyTDQy compact-list-view ipc-metadata-list--base\"})\n",
        "  movies=movies.find_all(\"li\",attrs={\"class\":\"ipc-metadata-list-summary-item sc-4929eaf6-0 DLYcv cli-parent\"} )\n",
        "  for movie in movies:\n",
        "    name=movie.find(\"h3\", class_=\"ipc-title__text\").get_text(strip=True).split('.')[1]\n",
        "    rank=movie.find(\"h3\", class_=\"ipc-title__text\").get_text(strip=True).split('.')[0]\n",
        "    year=movie.find(\"span\", class_=\"sc-300a8231-7 eaXxft cli-title-metadata-item\").get_text(strip=True)\n",
        "    rating=movie.find(\"span\", class_=\"ipc-rating-star--rating\").get_text(strip=True)\n",
        "    print(name,rank,year,rating)\n",
        "    sheet.append([rank, name, year, rating])\n",
        "\n",
        "\n",
        "\n",
        "except Exception as e:\n",
        "  print(e)\n",
        "excel.save(\"IMBD Move Rating.xlsx\")\n",
        "\n"
      ],
      "metadata": {
        "colab": {
          "base_uri": "https://localhost:8080/"
        },
        "id": "KKxARX6lDW7P",
        "outputId": "ad815f93-ab71-4ac8-8e12-e9d7a96677fc"
      },
      "execution_count": 36,
      "outputs": [
        {
          "output_type": "stream",
          "name": "stdout",
          "text": [
            " The Shawshank Redemption 1 1994 9.3\n",
            " The Godfather 2 1972 9.2\n",
            " The Dark Knight 3 2008 9.0\n",
            " The Godfather Part II 4 1974 9.0\n",
            " 12 Angry Men 5 1957 9.0\n",
            " The Lord of the Rings: The Return of the King 6 2003 9.0\n",
            " Schindler's List 7 1993 9.0\n",
            " Pulp Fiction 8 1994 8.9\n",
            " The Lord of the Rings: The Fellowship of the Ring 9 2001 8.9\n",
            " The Good, the Bad and the Ugly 10 1966 8.8\n",
            " Forrest Gump 11 1994 8.8\n",
            " The Lord of the Rings: The Two Towers 12 2002 8.8\n",
            " Fight Club 13 1999 8.8\n",
            " Inception 14 2010 8.8\n",
            " Star Wars: Episode V - The Empire Strikes Back 15 1980 8.7\n",
            " The Matrix 16 1999 8.7\n",
            " Goodfellas 17 1990 8.7\n",
            " One Flew Over the Cuckoo's Nest 18 1975 8.7\n",
            " Interstellar 19 2014 8.7\n",
            " Se7en 20 1995 8.6\n",
            " It's a Wonderful Life 21 1946 8.6\n",
            " Seven Samurai 22 1954 8.6\n",
            " The Silence of the Lambs 23 1991 8.6\n",
            " Saving Private Ryan 24 1998 8.6\n",
            " City of God 25 2002 8.6\n"
          ]
        }
      ]
    },
    {
      "cell_type": "code",
      "source": [],
      "metadata": {
        "id": "JsIgWDAqDW9_"
      },
      "execution_count": null,
      "outputs": []
    },
    {
      "cell_type": "code",
      "source": [],
      "metadata": {
        "id": "iCdss6i9DXBS"
      },
      "execution_count": null,
      "outputs": []
    },
    {
      "cell_type": "code",
      "source": [],
      "metadata": {
        "id": "liawhCwZDXEO"
      },
      "execution_count": null,
      "outputs": []
    },
    {
      "cell_type": "code",
      "source": [],
      "metadata": {
        "id": "aZj6ylH_DXHv"
      },
      "execution_count": null,
      "outputs": []
    },
    {
      "cell_type": "code",
      "source": [],
      "metadata": {
        "id": "8FATPGGHDXMk"
      },
      "execution_count": null,
      "outputs": []
    }
  ]
}